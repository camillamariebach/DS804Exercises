{
 "cells": [
  {
   "cell_type": "code",
   "execution_count": 1,
   "metadata": {},
   "outputs": [],
   "source": [
    "import pandas as pd\n",
    "import numpy as np"
   ]
  },
  {
   "cell_type": "markdown",
   "metadata": {},
   "source": [
    "## Exercise 8.1"
   ]
  },
  {
   "cell_type": "code",
   "execution_count": 2,
   "metadata": {},
   "outputs": [],
   "source": [
    "def f_hat_k(x, k, database):\n",
    "    distances = []\n",
    "    for point in database:\n",
    "        distances.append(manhattan_distance(x, database[point]))\n",
    "    distances.sort()\n",
    "    radius = distances[k-1]\n",
    "    density = k/(len(database)*(2*(radius * radius)))\n",
    "    \n",
    "    if distances[k-1] == distances[k]:\n",
    "        new_k = 0\n",
    "        while distances[new_k] <= distances[k-1]:\n",
    "            new_k += 1\n",
    "        density = f_hat_k(x, new_k, database)\n",
    "    \n",
    "    return density"
   ]
  },
  {
   "cell_type": "code",
   "execution_count": 3,
   "metadata": {},
   "outputs": [],
   "source": [
    "def f_hat_e(x, e, database):\n",
    "    distances = []\n",
    "    for point in database:\n",
    "        distances.append(manhattan_distance(x, database[point]))\n",
    "    distances.sort() \n",
    "    radius = e\n",
    "    \n",
    "    k = 0\n",
    "    while distances[k] <= e:\n",
    "        k +=1\n",
    "    density = k/(20*(2*(radius * radius)))\n",
    "    \n",
    "    return density"
   ]
  },
  {
   "cell_type": "code",
   "execution_count": 4,
   "metadata": {},
   "outputs": [],
   "source": [
    "def manhattan_distance(a, b):\n",
    "    s = 0\n",
    "    for i in range(len(a)):\n",
    "        s += np.abs(a[i] - b[i])\n",
    "    return s"
   ]
  },
  {
   "cell_type": "code",
   "execution_count": 5,
   "metadata": {},
   "outputs": [],
   "source": [
    "d = {\n",
    "    'a':[1,1],\n",
    "    'b':[2,1],\n",
    "    'c':[1,2],\n",
    "    'd':[2,2],\n",
    "    'e':[3,5],\n",
    "    'f':[3,9],\n",
    "    'g':[3,10],\n",
    "    'h':[4,10],\n",
    "    'i':[4,11],\n",
    "    'j':[5,10],\n",
    "    'k':[7,10],\n",
    "    'l':[10,9],\n",
    "    'm':[10,6],\n",
    "    'n':[9,5],\n",
    "    'o':[10,5],\n",
    "    'p':[11,5],\n",
    "    'q':[9,4],\n",
    "    'r':[10,4],\n",
    "    's':[11,4],\n",
    "    't':[10,3]\n",
    "}"
   ]
  },
  {
   "cell_type": "code",
   "execution_count": 6,
   "metadata": {},
   "outputs": [
    {
     "data": {
      "image/png": "[encoded data removed]",
      "text/plain": [
       "<Figure size 432x288 with 1 Axes>"
      ]
     },
     "metadata": {
      "needs_background": "light"
     },
     "output_type": "display_data"
    }
   ],
   "source": [
    "df = pd.DataFrame(d).T\n",
    "df.columns = ['x', 'y']\n",
    "df.plot.scatter(x = 'x', y = 'y');"
   ]
  },
  {
   "cell_type": "code",
   "execution_count": 7,
   "metadata": {},
   "outputs": [],
   "source": [
    "k2 = []\n",
    "k4 = []\n",
    "e1 = []\n",
    "e2 = []\n",
    "index = []\n",
    "for i in d:\n",
    "    index.append(i)\n",
    "    k2.append(f_hat_k(d[i], 2, d))\n",
    "    k4.append(f_hat_k(d[i], 4, d))\n",
    "    e1.append(f_hat_e(d[i], 1, d))\n",
    "    e2.append(f_hat_e(d[i], 2, d))"
   ]
  },
  {
   "cell_type": "code",
   "execution_count": 8,
   "metadata": {},
   "outputs": [
    {
     "data": {
      "text/html": [
       "<div>\n",
       "<style scoped>\n",
       "    .dataframe tbody tr th:only-of-type {\n",
       "        vertical-align: middle;\n",
       "    }\n",
       "\n",
       "    .dataframe tbody tr th {\n",
       "        vertical-align: top;\n",
       "    }\n",
       "\n",
       "    .dataframe thead th {\n",
       "        text-align: right;\n",
       "    }\n",
       "</style>\n",
       "<table border=\"1\" class=\"dataframe\">\n",
       "  <thead>\n",
       "    <tr style=\"text-align: right;\">\n",
       "      <th></th>\n",
       "      <th>k = 2</th>\n",
       "      <th>k = 4</th>\n",
       "      <th>e = 1</th>\n",
       "      <th>e = 2</th>\n",
       "    </tr>\n",
       "  </thead>\n",
       "  <tbody>\n",
       "    <tr>\n",
       "      <th>a</th>\n",
       "      <td>0.075000</td>\n",
       "      <td>0.025000</td>\n",
       "      <td>0.075</td>\n",
       "      <td>0.02500</td>\n",
       "    </tr>\n",
       "    <tr>\n",
       "      <th>b</th>\n",
       "      <td>0.075000</td>\n",
       "      <td>0.025000</td>\n",
       "      <td>0.075</td>\n",
       "      <td>0.02500</td>\n",
       "    </tr>\n",
       "    <tr>\n",
       "      <th>c</th>\n",
       "      <td>0.075000</td>\n",
       "      <td>0.025000</td>\n",
       "      <td>0.075</td>\n",
       "      <td>0.02500</td>\n",
       "    </tr>\n",
       "    <tr>\n",
       "      <th>d</th>\n",
       "      <td>0.075000</td>\n",
       "      <td>0.025000</td>\n",
       "      <td>0.075</td>\n",
       "      <td>0.02500</td>\n",
       "    </tr>\n",
       "    <tr>\n",
       "      <th>e</th>\n",
       "      <td>0.004687</td>\n",
       "      <td>0.006000</td>\n",
       "      <td>0.025</td>\n",
       "      <td>0.00625</td>\n",
       "    </tr>\n",
       "    <tr>\n",
       "      <th>f</th>\n",
       "      <td>0.050000</td>\n",
       "      <td>0.013889</td>\n",
       "      <td>0.050</td>\n",
       "      <td>0.01875</td>\n",
       "    </tr>\n",
       "    <tr>\n",
       "      <th>g</th>\n",
       "      <td>0.075000</td>\n",
       "      <td>0.031250</td>\n",
       "      <td>0.075</td>\n",
       "      <td>0.03125</td>\n",
       "    </tr>\n",
       "    <tr>\n",
       "      <th>h</th>\n",
       "      <td>0.100000</td>\n",
       "      <td>0.100000</td>\n",
       "      <td>0.100</td>\n",
       "      <td>0.03125</td>\n",
       "    </tr>\n",
       "    <tr>\n",
       "      <th>i</th>\n",
       "      <td>0.050000</td>\n",
       "      <td>0.025000</td>\n",
       "      <td>0.050</td>\n",
       "      <td>0.02500</td>\n",
       "    </tr>\n",
       "    <tr>\n",
       "      <th>j</th>\n",
       "      <td>0.050000</td>\n",
       "      <td>0.031250</td>\n",
       "      <td>0.050</td>\n",
       "      <td>0.03125</td>\n",
       "    </tr>\n",
       "    <tr>\n",
       "      <th>k</th>\n",
       "      <td>0.012500</td>\n",
       "      <td>0.009375</td>\n",
       "      <td>0.025</td>\n",
       "      <td>0.01250</td>\n",
       "    </tr>\n",
       "    <tr>\n",
       "      <th>l</th>\n",
       "      <td>0.005556</td>\n",
       "      <td>0.006250</td>\n",
       "      <td>0.025</td>\n",
       "      <td>0.00625</td>\n",
       "    </tr>\n",
       "    <tr>\n",
       "      <th>m</th>\n",
       "      <td>0.050000</td>\n",
       "      <td>0.031250</td>\n",
       "      <td>0.050</td>\n",
       "      <td>0.03125</td>\n",
       "    </tr>\n",
       "    <tr>\n",
       "      <th>n</th>\n",
       "      <td>0.075000</td>\n",
       "      <td>0.037500</td>\n",
       "      <td>0.075</td>\n",
       "      <td>0.03750</td>\n",
       "    </tr>\n",
       "    <tr>\n",
       "      <th>o</th>\n",
       "      <td>0.125000</td>\n",
       "      <td>0.125000</td>\n",
       "      <td>0.125</td>\n",
       "      <td>0.05000</td>\n",
       "    </tr>\n",
       "    <tr>\n",
       "      <th>p</th>\n",
       "      <td>0.075000</td>\n",
       "      <td>0.037500</td>\n",
       "      <td>0.075</td>\n",
       "      <td>0.03750</td>\n",
       "    </tr>\n",
       "    <tr>\n",
       "      <th>q</th>\n",
       "      <td>0.075000</td>\n",
       "      <td>0.037500</td>\n",
       "      <td>0.075</td>\n",
       "      <td>0.03750</td>\n",
       "    </tr>\n",
       "    <tr>\n",
       "      <th>r</th>\n",
       "      <td>0.125000</td>\n",
       "      <td>0.125000</td>\n",
       "      <td>0.125</td>\n",
       "      <td>0.05000</td>\n",
       "    </tr>\n",
       "    <tr>\n",
       "      <th>s</th>\n",
       "      <td>0.075000</td>\n",
       "      <td>0.037500</td>\n",
       "      <td>0.075</td>\n",
       "      <td>0.03750</td>\n",
       "    </tr>\n",
       "    <tr>\n",
       "      <th>t</th>\n",
       "      <td>0.050000</td>\n",
       "      <td>0.031250</td>\n",
       "      <td>0.050</td>\n",
       "      <td>0.03125</td>\n",
       "    </tr>\n",
       "  </tbody>\n",
       "</table>\n",
       "</div>"
      ],
      "text/plain": [
       "      k = 2     k = 4  e = 1    e = 2\n",
       "a  0.075000  0.025000  0.075  0.02500\n",
       "b  0.075000  0.025000  0.075  0.02500\n",
       "c  0.075000  0.025000  0.075  0.02500\n",
       "d  0.075000  0.025000  0.075  0.02500\n",
       "e  0.004687  0.006000  0.025  0.00625\n",
       "f  0.050000  0.013889  0.050  0.01875\n",
       "g  0.075000  0.031250  0.075  0.03125\n",
       "h  0.100000  0.100000  0.100  0.03125\n",
       "i  0.050000  0.025000  0.050  0.02500\n",
       "j  0.050000  0.031250  0.050  0.03125\n",
       "k  0.012500  0.009375  0.025  0.01250\n",
       "l  0.005556  0.006250  0.025  0.00625\n",
       "m  0.050000  0.031250  0.050  0.03125\n",
       "n  0.075000  0.037500  0.075  0.03750\n",
       "o  0.125000  0.125000  0.125  0.05000\n",
       "p  0.075000  0.037500  0.075  0.03750\n",
       "q  0.075000  0.037500  0.075  0.03750\n",
       "r  0.125000  0.125000  0.125  0.05000\n",
       "s  0.075000  0.037500  0.075  0.03750\n",
       "t  0.050000  0.031250  0.050  0.03125"
      ]
     },
     "execution_count": 8,
     "metadata": {},
     "output_type": "execute_result"
    }
   ],
   "source": [
    "tab = pd.DataFrame(np.transpose([k2, k4, e1, e2]), index = index, columns = ['k = 2', 'k = 4', 'e = 1', 'e = 2'])\n",
    "\n",
    "tab"
   ]
  },
  {
   "cell_type": "code",
   "execution_count": 9,
   "metadata": {},
   "outputs": [
    {
     "data": {
      "application/javascript": [
       "\n",
       "        if (window._pyforest_update_imports_cell) { window._pyforest_update_imports_cell('import matplotlib.pyplot as plt'); }\n",
       "    "
      ],
      "text/plain": [
       "<IPython.core.display.Javascript object>"
      ]
     },
     "metadata": {},
     "output_type": "display_data"
    },
    {
     "data": {
      "image/png": "[encoded data removed]",
      "text/plain": [
       "<Figure size 1080x720 with 1 Axes>"
      ]
     },
     "metadata": {
      "needs_background": "light"
     },
     "output_type": "display_data"
    }
   ],
   "source": [
    "tab.plot.bar(figsize = (15,10))\n",
    "plt.xticks(rotation = 0);"
   ]
  }
 ],
 "metadata": {
  "kernelspec": {
   "display_name": "Python 3.8.1 64-bit",
   "language": "python",
   "name": "python38164bit4bf144c84cb1477b9cbdd542237e2e58"
  },
  "language_info": {
   "codemirror_mode": {
    "name": "ipython",
    "version": 3
   },
   "file_extension": ".py",
   "mimetype": "text/x-python",
   "name": "python",
   "nbconvert_exporter": "python",
   "pygments_lexer": "ipython3",
   "version": "3.8.1"
  }
 },
 "nbformat": 4,
 "nbformat_minor": 4
}
